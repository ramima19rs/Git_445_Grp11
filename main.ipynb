{
  "nbformat": 4,
  "nbformat_minor": 0,
  "metadata": {
    "colab": {
      "provenance": [],
      "gpuType": "T4"
    },
    "kernelspec": {
      "name": "python3",
      "display_name": "Python 3"
    },
    "language_info": {
      "name": "python"
    },
    "accelerator": "GPU"
  },
  "cells": [
    {
      "cell_type": "code",
      "source": [
        "from google.colab import files\n",
        "uploaded = files.upload()"
      ],
      "metadata": {
        "colab": {
          "base_uri": "https://localhost:8080/",
          "height": 73
        },
        "id": "St0_tLhs4rr4",
        "outputId": "6e64d2ed-dde8-4b67-c6ae-7e43586e4feb"
      },
      "execution_count": 5,
      "outputs": [
        {
          "output_type": "display_data",
          "data": {
            "text/plain": [
              "<IPython.core.display.HTML object>"
            ],
            "text/html": [
              "\n",
              "     <input type=\"file\" id=\"files-45f22e51-2c05-4098-980a-6c4db646d5b6\" name=\"files[]\" multiple disabled\n",
              "        style=\"border:none\" />\n",
              "     <output id=\"result-45f22e51-2c05-4098-980a-6c4db646d5b6\">\n",
              "      Upload widget is only available when the cell has been executed in the\n",
              "      current browser session. Please rerun this cell to enable.\n",
              "      </output>\n",
              "      <script>// Copyright 2017 Google LLC\n",
              "//\n",
              "// Licensed under the Apache License, Version 2.0 (the \"License\");\n",
              "// you may not use this file except in compliance with the License.\n",
              "// You may obtain a copy of the License at\n",
              "//\n",
              "//      http://www.apache.org/licenses/LICENSE-2.0\n",
              "//\n",
              "// Unless required by applicable law or agreed to in writing, software\n",
              "// distributed under the License is distributed on an \"AS IS\" BASIS,\n",
              "// WITHOUT WARRANTIES OR CONDITIONS OF ANY KIND, either express or implied.\n",
              "// See the License for the specific language governing permissions and\n",
              "// limitations under the License.\n",
              "\n",
              "/**\n",
              " * @fileoverview Helpers for google.colab Python module.\n",
              " */\n",
              "(function(scope) {\n",
              "function span(text, styleAttributes = {}) {\n",
              "  const element = document.createElement('span');\n",
              "  element.textContent = text;\n",
              "  for (const key of Object.keys(styleAttributes)) {\n",
              "    element.style[key] = styleAttributes[key];\n",
              "  }\n",
              "  return element;\n",
              "}\n",
              "\n",
              "// Max number of bytes which will be uploaded at a time.\n",
              "const MAX_PAYLOAD_SIZE = 100 * 1024;\n",
              "\n",
              "function _uploadFiles(inputId, outputId) {\n",
              "  const steps = uploadFilesStep(inputId, outputId);\n",
              "  const outputElement = document.getElementById(outputId);\n",
              "  // Cache steps on the outputElement to make it available for the next call\n",
              "  // to uploadFilesContinue from Python.\n",
              "  outputElement.steps = steps;\n",
              "\n",
              "  return _uploadFilesContinue(outputId);\n",
              "}\n",
              "\n",
              "// This is roughly an async generator (not supported in the browser yet),\n",
              "// where there are multiple asynchronous steps and the Python side is going\n",
              "// to poll for completion of each step.\n",
              "// This uses a Promise to block the python side on completion of each step,\n",
              "// then passes the result of the previous step as the input to the next step.\n",
              "function _uploadFilesContinue(outputId) {\n",
              "  const outputElement = document.getElementById(outputId);\n",
              "  const steps = outputElement.steps;\n",
              "\n",
              "  const next = steps.next(outputElement.lastPromiseValue);\n",
              "  return Promise.resolve(next.value.promise).then((value) => {\n",
              "    // Cache the last promise value to make it available to the next\n",
              "    // step of the generator.\n",
              "    outputElement.lastPromiseValue = value;\n",
              "    return next.value.response;\n",
              "  });\n",
              "}\n",
              "\n",
              "/**\n",
              " * Generator function which is called between each async step of the upload\n",
              " * process.\n",
              " * @param {string} inputId Element ID of the input file picker element.\n",
              " * @param {string} outputId Element ID of the output display.\n",
              " * @return {!Iterable<!Object>} Iterable of next steps.\n",
              " */\n",
              "function* uploadFilesStep(inputId, outputId) {\n",
              "  const inputElement = document.getElementById(inputId);\n",
              "  inputElement.disabled = false;\n",
              "\n",
              "  const outputElement = document.getElementById(outputId);\n",
              "  outputElement.innerHTML = '';\n",
              "\n",
              "  const pickedPromise = new Promise((resolve) => {\n",
              "    inputElement.addEventListener('change', (e) => {\n",
              "      resolve(e.target.files);\n",
              "    });\n",
              "  });\n",
              "\n",
              "  const cancel = document.createElement('button');\n",
              "  inputElement.parentElement.appendChild(cancel);\n",
              "  cancel.textContent = 'Cancel upload';\n",
              "  const cancelPromise = new Promise((resolve) => {\n",
              "    cancel.onclick = () => {\n",
              "      resolve(null);\n",
              "    };\n",
              "  });\n",
              "\n",
              "  // Wait for the user to pick the files.\n",
              "  const files = yield {\n",
              "    promise: Promise.race([pickedPromise, cancelPromise]),\n",
              "    response: {\n",
              "      action: 'starting',\n",
              "    }\n",
              "  };\n",
              "\n",
              "  cancel.remove();\n",
              "\n",
              "  // Disable the input element since further picks are not allowed.\n",
              "  inputElement.disabled = true;\n",
              "\n",
              "  if (!files) {\n",
              "    return {\n",
              "      response: {\n",
              "        action: 'complete',\n",
              "      }\n",
              "    };\n",
              "  }\n",
              "\n",
              "  for (const file of files) {\n",
              "    const li = document.createElement('li');\n",
              "    li.append(span(file.name, {fontWeight: 'bold'}));\n",
              "    li.append(span(\n",
              "        `(${file.type || 'n/a'}) - ${file.size} bytes, ` +\n",
              "        `last modified: ${\n",
              "            file.lastModifiedDate ? file.lastModifiedDate.toLocaleDateString() :\n",
              "                                    'n/a'} - `));\n",
              "    const percent = span('0% done');\n",
              "    li.appendChild(percent);\n",
              "\n",
              "    outputElement.appendChild(li);\n",
              "\n",
              "    const fileDataPromise = new Promise((resolve) => {\n",
              "      const reader = new FileReader();\n",
              "      reader.onload = (e) => {\n",
              "        resolve(e.target.result);\n",
              "      };\n",
              "      reader.readAsArrayBuffer(file);\n",
              "    });\n",
              "    // Wait for the data to be ready.\n",
              "    let fileData = yield {\n",
              "      promise: fileDataPromise,\n",
              "      response: {\n",
              "        action: 'continue',\n",
              "      }\n",
              "    };\n",
              "\n",
              "    // Use a chunked sending to avoid message size limits. See b/62115660.\n",
              "    let position = 0;\n",
              "    do {\n",
              "      const length = Math.min(fileData.byteLength - position, MAX_PAYLOAD_SIZE);\n",
              "      const chunk = new Uint8Array(fileData, position, length);\n",
              "      position += length;\n",
              "\n",
              "      const base64 = btoa(String.fromCharCode.apply(null, chunk));\n",
              "      yield {\n",
              "        response: {\n",
              "          action: 'append',\n",
              "          file: file.name,\n",
              "          data: base64,\n",
              "        },\n",
              "      };\n",
              "\n",
              "      let percentDone = fileData.byteLength === 0 ?\n",
              "          100 :\n",
              "          Math.round((position / fileData.byteLength) * 100);\n",
              "      percent.textContent = `${percentDone}% done`;\n",
              "\n",
              "    } while (position < fileData.byteLength);\n",
              "  }\n",
              "\n",
              "  // All done.\n",
              "  yield {\n",
              "    response: {\n",
              "      action: 'complete',\n",
              "    }\n",
              "  };\n",
              "}\n",
              "\n",
              "scope.google = scope.google || {};\n",
              "scope.google.colab = scope.google.colab || {};\n",
              "scope.google.colab._files = {\n",
              "  _uploadFiles,\n",
              "  _uploadFilesContinue,\n",
              "};\n",
              "})(self);\n",
              "</script> "
            ]
          },
          "metadata": {}
        },
        {
          "output_type": "stream",
          "name": "stdout",
          "text": [
            "Saving notable_figures.zip to notable_figures (1).zip\n"
          ]
        }
      ]
    },
    {
      "cell_type": "code",
      "source": [
        "import zipfile\n",
        "import os\n",
        "\n",
        "# Define the file name\n",
        "zip_file = \"notable_figures.zip\"\n",
        "\n",
        "# Extract the zip file\n",
        "with zipfile.ZipFile(zip_file, 'r') as zip_ref:\n",
        "    zip_ref.extractall(\"notable_figures\")"
      ],
      "metadata": {
        "id": "rqTfHISR8nGJ"
      },
      "execution_count": 6,
      "outputs": []
    },
    {
      "cell_type": "code",
      "source": [
        "import os\n",
        "\n",
        "# Verify extracted folders\n",
        "base_dir = \"notable_figures\"\n",
        "categories = os.listdir(base_dir)\n",
        "print(\"Categories:\", categories)\n",
        "\n",
        "# List files in a specific category\n",
        "for category in categories:\n",
        "    print(f\"Files in {category}:\")\n",
        "    print(os.listdir(os.path.join(base_dir, category)))\n"
      ],
      "metadata": {
        "colab": {
          "base_uri": "https://localhost:8080/"
        },
        "id": "d3i9Hw8f8qW-",
        "outputId": "38a43eb7-f601-4904-915d-5c8356e3e3fd"
      },
      "execution_count": 7,
      "outputs": [
        {
          "output_type": "stream",
          "name": "stdout",
          "text": [
            "Categories: ['445 project']\n",
            "Files in 445 project:\n",
            "['scientists', 'actors', 'athletes']\n"
          ]
        }
      ]
    },
    {
      "cell_type": "code",
      "source": [
        "import os\n",
        "\n",
        "# Check the contents of the notable_figures directory\n",
        "base_dir = \"notable_figures\"\n",
        "print(os.listdir(base_dir))\n"
      ],
      "metadata": {
        "colab": {
          "base_uri": "https://localhost:8080/"
        },
        "id": "8T5zmwLy9mg2",
        "outputId": "0e43fde4-c396-4544-c5d1-4714cf63cd34"
      },
      "execution_count": 8,
      "outputs": [
        {
          "output_type": "stream",
          "name": "stdout",
          "text": [
            "['445 project']\n"
          ]
        }
      ]
    },
    {
      "cell_type": "code",
      "source": [
        "# Define path to 445 project folder\n",
        "project_dir = os.path.join(base_dir, \"445 project\")\n",
        "categories = os.listdir(project_dir)\n",
        "print(\"Categories:\", categories)\n"
      ],
      "metadata": {
        "colab": {
          "base_uri": "https://localhost:8080/"
        },
        "id": "NlgnotFT9o-E",
        "outputId": "a8b9b097-424f-4ba8-edfb-9b6a335dcd1e"
      },
      "execution_count": 9,
      "outputs": [
        {
          "output_type": "stream",
          "name": "stdout",
          "text": [
            "Categories: ['scientists', 'actors', 'athletes']\n"
          ]
        }
      ]
    },
    {
      "cell_type": "code",
      "source": [
        "from tensorflow.keras.preprocessing.image import ImageDataGenerator\n",
        "\n",
        "# Create ImageDataGenerator\n",
        "datagen = ImageDataGenerator(\n",
        "    rescale=1./255,         # Normalize pixel values\n",
        "    validation_split=0.2    # Split data into training and validation\n",
        ")\n",
        "\n",
        "# Load training data\n",
        "train_data = datagen.flow_from_directory(\n",
        "    project_dir,            # Use the path to 445 project\n",
        "    target_size=(128, 128), # Resize images\n",
        "    batch_size=32,          # Batch size\n",
        "    class_mode='categorical',\n",
        "    subset='training'\n",
        ")\n",
        "\n",
        "# Load validation data\n",
        "val_data = datagen.flow_from_directory(\n",
        "    project_dir,            # Use the path to 445 project\n",
        "    target_size=(128, 128),\n",
        "    batch_size=32,\n",
        "    class_mode='categorical',\n",
        "    subset='validation'\n",
        ")\n"
      ],
      "metadata": {
        "colab": {
          "base_uri": "https://localhost:8080/"
        },
        "id": "uC5PCMM89r-E",
        "outputId": "4ce321ed-6dd1-4f9d-ea9b-276f4928f362"
      },
      "execution_count": 10,
      "outputs": [
        {
          "output_type": "stream",
          "name": "stdout",
          "text": [
            "Found 999 images belonging to 3 classes.\n",
            "Found 248 images belonging to 3 classes.\n"
          ]
        }
      ]
    },
    {
      "cell_type": "code",
      "source": [
        "# List the full structure\n",
        "for root, dirs, files in os.walk(\".\"):\n",
        "    print(root, dirs, files)\n"
      ],
      "metadata": {
        "colab": {
          "base_uri": "https://localhost:8080/"
        },
        "id": "84uYbosW9xBl",
        "outputId": "351c0987-f0a5-4360-b1cd-b7d191349a2d"
      },
      "execution_count": 11,
      "outputs": [
        {
          "output_type": "stream",
          "name": "stdout",
          "text": [
            ". ['.config', 'notable_figures', 'sample_data'] ['notable_figures.zip', 'notable_figures.zip.zip', 'notable_figures (1).zip']\n",
            "./.config ['configurations', 'logs'] ['gce', '.last_opt_in_prompt.yaml', 'hidden_gcloud_config_universe_descriptor_data_cache_configs.db', '.last_update_check.json', 'config_sentinel', '.last_survey_prompt.yaml', 'active_config', 'default_configs.db']\n",
            "./.config/configurations [] ['config_default']\n",
            "./.config/logs ['2024.11.21'] []\n",
            "./.config/logs/2024.11.21 [] ['14.25.30.368557.log', '14.25.43.887178.log', '14.25.31.482956.log', '14.25.44.623490.log', '14.24.55.851126.log', '14.25.17.504089.log']\n",
            "./notable_figures ['445 project'] []\n",
            "./notable_figures/445 project ['scientists', 'actors', 'athletes'] []\n",
            "./notable_figures/445 project/scientists [] ['Isaac_Newton7.jpg', 'Alan_Turing25.jpg', 'Marie_Curie7.jpg', 'Marie_Curie40.jpg', 'Alan_Turing1.jpg', 'Marie_Curie43.jpg', 'Isaac_Newton2.jpg', 'Albert_Einstein33.jpg', 'Alan_Turing11.jpg', 'Albert_Einstein4.jpg', 'Marie_Curie14.jpg', 'Marie_Curie13.jpg', 'Albert_Einstein28.jpg', 'Marie_Curie23.jpg', 'Albert_Einstein17.jpg', 'Albert_Einstein39.jpg', 'Marie_Curie31.jpg', 'Marie_Curie41.jpg', 'Alan_Turing5.jpg', 'Isaac_Newton12.jpg', 'Isaac_Newton18.jpg', 'Albert_Einstein20.jpg', 'Alan_Turing35.jpg', 'Marie_Curie20.jpg', 'Isaac_Newton9.jpg', 'Alan_Turing31.jpg', 'Marie_Curie11.jpg', 'Isaac_Newton4.jpg', 'Alan_Turing9.jpg', 'Isaac_Newton16.jpg', 'Albert_Einstein41.jpg', 'Alan_Turing3.jpg', 'Isaac_Newton23.jpg', 'Marie_Curie47.jpg', 'Albert_Einstein19.jpg', 'Albert_Einstein49.jpg', 'Albert_Einstein26.jpg', 'Isaac_Newton20.jpg', 'Albert_Einstein9.jpg', 'Marie_Curie44.jpg', 'Alan_Turing28.jpg', 'Albert_Einstein31.jpg', 'Marie_Curie35.jpg', 'Alan_Turing13.jpg', 'Albert_Einstein3.jpg', 'Marie_Curie28.jpg', 'Alan_Turing19.jpg', 'Albert_Einstein13.jpg', 'Marie_Curie16.jpg', 'Alan_Turing7.jpg', 'Marie_Curie22.jpg', 'Marie_Curie33.jpg', 'Marie_Curie37.jpg', 'Marie_Curie32.jpg', 'Alan_Turing2.jpg', 'Alan_Turing37.jpg', 'Albert_Einstein29.jpg', 'Alan_Turing18.jpg', 'Marie_Curie2.jpg', 'Isaac_Newton13.jpg', 'Albert_Einstein16.jpg', 'Albert_Einstein32.jpg', 'Isaac_Newton8.jpg', 'Isaac_Newton19.jpg', 'Alan_Turing24.jpg', 'Albert_Einstein40.jpg', 'Marie_Curie39.jpg', 'Albert_Einstein14.jpg', 'Alan_Turing15.jpg', 'Marie_Curie27.jpg', 'Albert_Einstein10.jpg', 'Albert_Einstein8.jpg', 'Albert_Einstein18.jpg', 'Albert_Einstein12.jpg', 'Albert_Einstein7.jpg', 'Alan_Turing30.jpg', 'Marie_Curie29.jpg', 'Marie_Curie15.jpg', 'Alan_Turing12.jpg', 'Albert_Einstein30.jpg', 'Isaac_Newton21.jpg', 'Marie_Curie25.jpg', 'Isaac_Newton5.jpg', 'Albert_Einstein27.jpg', 'Marie_Curie42.jpg', 'Isaac_Newton26.jpg', 'Marie_Curie6.jpg', 'Alan_Turing10.jpg', 'Albert_Einstein38.jpg', 'Albert_Einstein21.jpg', 'Albert_Einstein15.jpg', 'Isaac_Newton10.jpg', 'Marie_Curie38.jpg', 'Alan_Turing23.jpg', 'Albert_Einstein35.jpg', 'Albert_Einstein23.jpg', 'Alan_Turing20.jpg', 'Alan_Turing8.jpg', 'Isaac_Newton24.jpg', 'Alan_Turing16.jpg', 'Marie_Curie21.jpg', 'Alan_Turing17.jpg', 'Marie_Curie8.jpg', 'Alan_Turing22.jpg', 'Marie_Curie17.jpg', 'Marie_Curie34.jpg', 'Marie_Curie26.jpg', 'Marie_Curie12.jpg', 'Marie_Curie49.jpg', 'Alan_Turing14.jpg', 'Alan_Turing21.jpg', 'Marie_Curie24.jpg', 'Albert_Einstein2.jpg', 'Alan_Turing27.jpg', 'Alan_Turing6.jpg', 'Marie_Curie51.jpg', 'Marie_Curie10.jpg', 'Isaac_Newton3.jpg', 'Marie_Curie30.jpg']\n",
            "./notable_figures/445 project/actors [] ['000276.jpg', '000990.jpg', '000422.jpg', '000786.jpg', '000849.jpg', '000651.jpg', '000658.jpg', '000299.jpg', '000002.jpg', '000402.jpg', '000275.jpg', '000663.jpg', '000741.jpg', '000520.jpg', '000699.jpg', '001000.jpg', '000938.jpg', '000210.jpg', '000766.jpg', '000257.jpg', '000944.jpg', '000067.jpg', '000024.jpg', '000076.jpg', '000540.jpg', '000752.jpg', '000929.jpg', '001005.jpg', '000518.jpg', '000178.jpg', '000171.jpg', '000893.jpg', '000469.jpg', '000988.jpg', '000965.jpg', '000385.jpg', '000460.jpg', '000205.jpg', '000288.jpg', '000669.jpg', '000224.jpg', '000886.jpg', '000908.jpg', '000721.jpg', '000945.jpg', '000167.jpg', '000872.jpg', '000723.jpg', '000816.jpg', '000158.jpg', '000805.jpg', '000936.jpg', '000226.jpg', '000747.jpg', '000109.jpg', '000971.jpg', '000155.jpg', '000215.jpg', '001018.jpg', '000310.jpg', '000949.jpg', '000487.jpg', '000039.jpg', '000833.jpg', '000843.jpg', '000576.jpg', '000280.jpg', '000683.jpg', '000780.jpg', '000255.jpg', '000379.jpg', '000589.jpg', '000286.jpg', '000598.jpg', '000107.jpg', '000238.jpg', '000474.jpg', '000404.jpg', '000247.jpg', '000922.jpg', '000087.jpg', '000757.jpg', '000812.jpg', '000911.jpg', '000546.jpg', '000940.jpg', '000745.jpg', '000960.jpg', '000716.jpg', '000622.jpg', '000878.jpg', '000010.jpg', '000642.jpg', '001002.jpg', '000670.jpg', '000624.jpg', '000122.jpg', '000135.jpg', '000478.jpg', '000927.jpg', '000003.jpg', '000313.jpg', '000593.jpg', '000452.jpg', '000114.jpg', '000025.jpg', '000151.jpg', '000769.jpg', '000628.jpg', '000609.jpg', '000578.jpg', '000497.jpg', '000043.jpg', '000296.jpg', '000836.jpg', '000866.jpg', '000792.jpg', '000211.jpg', '000144.jpg', '000921.jpg', '000552.jpg', '000778.jpg', '000029.jpg', '000774.jpg', '000602.jpg', '000153.jpg', '000675.jpg', '000246.jpg', '000093.jpg', '000577.jpg', '000420.jpg', '000875.jpg', '000443.jpg', '000347.jpg', '000797.jpg', '000962.jpg', '000513.jpg', '000355.jpg', '000731.jpg', '000937.jpg', '000604.jpg', '000788.jpg', '000105.jpg', '000991.jpg', '000381.jpg', '000020.jpg', '000880.jpg', '000086.jpg', '000584.jpg', '000950.jpg', '000394.jpg', '000525.jpg', '000491.jpg', '000161.jpg', '000362.jpg', '000764.jpg', '000768.jpg', '000339.jpg', '000194.jpg', '000839.jpg', '000459.jpg', '000250.jpg', '000254.jpg', '000231.jpg', '000118.jpg', '000963.jpg', '000693.jpg', '000531.jpg', '000424.jpg', '000484.jpg', '000270.jpg', '000170.jpg', '000781.jpg', '000850.jpg', '000440.jpg', '000017.jpg', '000763.jpg', '000570.jpg', '000637.jpg', '000180.jpg', '000972.jpg', '000149.jpg', '000326.jpg', '000101.jpg', '000235.jpg', '000556.jpg', '000096.jpg', '000977.jpg', '000542.jpg', '000935.jpg', '000295.jpg', '000162.jpg', '000673.jpg', '000095.jpg', '000631.jpg', '000097.jpg', '000676.jpg', '000969.jpg', '000120.jpg', '000407.jpg', '000641.jpg', '000147.jpg', '000218.jpg', '000837.jpg', '000222.jpg', '000586.jpg', '000083.jpg', '000993.jpg', '000989.jpg', '000883.jpg', '000396.jpg', '001021.jpg', '000826.jpg', '000994.jpg', '000711.jpg', '000041.jpg', '000771.jpg', '000582.jpg', '000696.jpg', '000444.jpg', '000458.jpg', '000868.jpg', '000916.jpg', '000787.jpg', '000169.jpg', '000687.jpg', '000084.jpg', '000798.jpg', '000485.jpg', '000036.jpg', '000124.jpg', '000726.jpg', '000094.jpg', '000306.jpg', '000500.jpg', '000817.jpg', '000874.jpg', '000274.jpg', '000141.jpg', '000981.jpg', '000013.jpg', '000323.jpg', '000515.jpg', '000204.jpg', '000470.jpg', '000088.jpg', '000037.jpg', '000614.jpg', '000824.jpg', '000439.jpg', '000042.jpg', '000846.jpg', '000449.jpg', '000304.jpg', '000909.jpg', '000412.jpg', '000996.jpg', '000980.jpg', '000561.jpg', '000715.jpg', '000068.jpg', '000152.jpg', '000832.jpg', '000253.jpg', '000454.jpg', '000626.jpg', '000027.jpg', '000115.jpg', '000953.jpg', '000725.jpg', '000912.jpg', '000896.jpg', '000463.jpg', '000695.jpg', '000113.jpg', '000261.jpg', '000727.jpg', '000736.jpg', '000722.jpg', '000064.jpg', '000436.jpg', '000649.jpg', '000923.jpg', '000272.jpg', '001011.jpg', '000195.jpg', '000328.jpg', '000357.jpg', '000435.jpg', '000102.jpg', '000044.jpg', '000877.jpg', '000416.jpg', '000789.jpg', '000813.jpg', '000030.jpg', '000974.jpg', '000129.jpg', '000217.jpg', '000608.jpg', '000900.jpg', '000057.jpg', '000488.jpg', '000595.jpg', '001019.jpg', '000995.jpg', '000053.jpg', '000335.jpg', '000059.jpg', '000915.jpg', '000539.jpg', '000522.jpg', '000207.jpg', '000760.jpg', '000426.jpg', '000830.jpg', '000461.jpg', '000446.jpg', '000627.jpg', '000378.jpg', '000903.jpg', '000333.jpg', '000767.jpg', '000947.jpg', '000447.jpg', '000667.jpg', '000964.jpg', '000783.jpg', '000291.jpg', '000858.jpg', '000616.jpg', '000251.jpg', '000319.jpg', '000925.jpg', '000245.jpg', '001012.jpg', '000864.jpg', '000193.jpg', '001022.jpg', '000992.jpg', '000791.jpg', '000762.jpg', '000502.jpg', '000450.jpg', '000063.jpg', '000342.jpg', '000951.jpg', '001017.jpg', '000782.jpg', '000770.jpg', '000759.jpg', '000139.jpg', '000156.jpg', '000679.jpg', '000388.jpg', '000527.jpg', '000751.jpg', '000374.jpg', '000655.jpg', '000587.jpg', '000841.jpg', '000294.jpg', '000600.jpg', '000329.jpg', '000564.jpg', '000601.jpg', '000563.jpg', '000913.jpg', '000703.jpg', '000265.jpg', '000966.jpg', '000397.jpg', '000336.jpg', '000012.jpg', '001003.jpg', '000629.jpg', '000022.jpg', '000554.jpg', '000312.jpg', '000206.jpg', '000820.jpg', '000808.jpg', '000682.jpg', '000583.jpg', '000047.jpg', '000075.jpg', '000332.jpg', '000262.jpg', '000724.jpg', '000065.jpg', '001009.jpg', '000859.jpg', '000009.jpg', '000425.jpg', '000199.jpg', '000615.jpg', '000189.jpg', '000847.jpg', '000854.jpg', '000898.jpg', '000961.jpg', '000509.jpg', '000415.jpg', '000489.jpg', '000665.jpg', '000559.jpg', '000646.jpg', '000283.jpg', '000744.jpg', '000290.jpg', '000398.jpg', '000073.jpg', '000314.jpg', '000137.jpg', '000656.jpg', '000775.jpg', '000794.jpg', '000801.jpg', '000223.jpg', '000920.jpg', '000427.jpg', '000738.jpg', '000121.jpg', '000297.jpg', '000242.jpg', '000472.jpg', '000819.jpg', '000956.jpg', '000330.jpg', '000305.jpg', '000835.jpg', '000978.jpg', '000089.jpg', '000163.jpg', '000441.jpg', '001001.jpg', '000179.jpg', '000733.jpg', '000625.jpg', '000345.jpg', '000603.jpg', '000521.jpg', '000734.jpg', '000320.jpg', '000349.jpg', '000512.jpg', '000216.jpg', '000364.jpg', '000773.jpg', '000269.jpg', '000799.jpg', '000356.jpg', '000421.jpg', '000055.jpg', '000672.jpg', '000712.jpg', '000221.jpg', '001014.jpg', '000613.jpg', '000430.jpg', '000419.jpg', '000652.jpg', '000340.jpg', '000873.jpg', '000870.jpg', '000070.jpg', '000400.jpg', '001004.jpg', '000939.jpg', '000445.jpg', '000544.jpg', '000851.jpg', '000904.jpg', '000720.jpg', '000493.jpg', '000140.jpg', '000145.jpg', '000271.jpg', '000914.jpg', '000739.jpg', '000318.jpg', '000361.jpg', '000325.jpg', '000071.jpg', '000802.jpg', '000123.jpg', '000268.jpg', '000023.jpg', '000591.jpg', '000046.jpg', '000566.jpg', '000327.jpg', '000803.jpg', '000541.jpg', '000917.jpg', '000606.jpg', '000418.jpg', '000814.jpg', '000001.jpg', '000307.jpg', '000104.jpg', '000750.jpg', '000648.jpg', '000719.jpg', '000174.jpg', '000571.jpg', '000062.jpg', '000986.jpg', '000346.jpg', '000048.jpg', '000058.jpg', '000389.jpg', '000188.jpg', '000549.jpg', '000359.jpg', '000390.jpg', '000660.jpg', '000028.jpg', '000437.jpg', '000099.jpg', '000735.jpg', '000391.jpg', '000383.jpg', '000267.jpg', '000438.jpg', '000910.jpg', '000034.jpg', '000181.jpg', '000098.jpg', '000467.jpg', '000982.jpg', '000284.jpg', '000358.jpg', '000248.jpg', '000249.jpg', '000455.jpg', '000236.jpg', '000007.jpg', '000481.jpg', '000136.jpg', '000344.jpg', '000431.jpg', '000558.jpg', '000442.jpg', '000884.jpg', '000511.jpg', '000617.jpg', '000857.jpg', '000643.jpg', '000894.jpg', '000871.jpg', '000821.jpg', '000567.jpg', '000852.jpg', '000480.jpg', '000198.jpg', '000933.jpg', '001008.jpg', '000243.jpg', '000014.jpg', '000919.jpg', '000565.jpg', '000623.jpg', '000931.jpg', '000413.jpg', '000021.jpg', '000081.jpg', '000569.jpg', '000881.jpg', '000191.jpg', '000252.jpg', '000562.jpg', '000592.jpg', '000492.jpg', '000212.jpg', '000842.jpg', '000078.jpg', '000091.jpg', '000890.jpg', '000662.jpg', '000686.jpg', '000918.jpg', '000056.jpg', '000287.jpg', '000405.jpg', '000754.jpg', '000116.jpg', '000897.jpg', '000869.jpg', '000350.jpg', '000045.jpg', '000108.jpg', '000499.jpg', '000479.jpg', '000529.jpg', '000229.jpg', '000528.jpg', '000237.jpg', '000743.jpg', '000175.jpg', '000300.jpg', '000337.jpg', '000694.jpg', '000853.jpg', '000127.jpg', '000259.jpg', '000466.jpg', '000684.jpg', '000360.jpg', '000456.jpg', '000959.jpg', '000636.jpg', '000157.jpg', '000130.jpg', '000607.jpg', '000183.jpg', '000702.jpg', '000316.jpg', '000159.jpg', '000943.jpg', '000050.jpg', '000126.jpg', '000376.jpg', '000654.jpg', '000219.jpg', '000103.jpg', '000952.jpg', '000473.jpg', '000508.jpg', '000142.jpg', '001010.jpg', '000555.jpg', '000958.jpg', '000635.jpg', '000372.jpg', '000302.jpg', '000289.jpg', '000282.jpg', '000924.jpg', '000208.jpg', '000100.jpg', '000354.jpg', '000891.jpg', '000785.jpg', '000429.jpg', '000146.jpg', '000111.jpg', '000543.jpg', '000588.jpg', '000498.jpg', '000742.jpg', '000414.jpg', '000537.jpg', '000811.jpg', '000260.jpg', '000779.jpg', '000085.jpg', '000239.jpg', '000887.jpg', '000482.jpg', '000475.jpg', '000380.jpg', '000823.jpg', '000517.jpg', '000706.jpg', '000040.jpg', '000018.jpg', '000406.jpg', '000729.jpg', '000377.jpg', '000192.jpg', '000148.jpg', '000363.jpg', '000550.jpg', '000975.jpg', '000060.jpg', '000926.jpg', '000930.jpg', '000523.jpg', '000928.jpg', '000373.jpg', '000334.jpg', '000005.jpg', '000134.jpg', '000072.jpg', '000504.jpg', '000505.jpg', '000957.jpg', '000524.jpg', '000691.jpg', '000987.jpg', '000241.jpg', '000258.jpg', '000069.jpg', '000190.jpg', '000451.jpg', '000862.jpg', '000315.jpg', '000907.jpg', '000855.jpg', '000052.jpg', '000560.jpg', '000985.jpg', '000681.jpg', '000321.jpg', '000536.jpg', '000510.jpg', '000038.jpg', '000106.jpg', '000825.jpg', '000172.jpg', '000164.jpg', '000225.jpg', '000979.jpg', '000806.jpg', '000403.jpg', '000876.jpg', '000154.jpg', '000016.jpg', '000277.jpg', '000233.jpg', '000941.jpg', '000273.jpg', '000186.jpg', '000324.jpg', '000645.jpg', '000382.jpg', '000834.jpg', '000793.jpg', '000605.jpg', '000671.jpg', '000399.jpg', '000879.jpg', '000717.jpg', '000166.jpg', '000074.jpg', '000202.jpg', '000532.jpg', '000590.jpg', '000227.jpg', '000755.jpg', '000279.jpg', '000032.jpg', '000998.jpg', '000392.jpg', '000758.jpg', '000707.jpg', '000796.jpg', '000168.jpg', '000718.jpg', '000061.jpg', '000753.jpg', '000292.jpg', '000434.jpg', '000197.jpg', '000822.jpg', '000220.jpg', '000776.jpg', '000317.jpg', '000838.jpg', '000976.jpg', '000612.jpg', '000597.jpg', '000462.jpg', '000125.jpg', '000639.jpg', '000240.jpg', '000150.jpg', '000772.jpg', '000848.jpg', '000423.jpg', '000173.jpg', '000828.jpg', '000322.jpg', '000507.jpg', '000954.jpg', '000352.jpg', '000865.jpg', '000581.jpg', '000185.jpg', '000448.jpg', '000514.jpg', '000840.jpg', '000630.jpg', '000638.jpg', '000885.jpg', '000177.jpg', '000784.jpg', '000184.jpg', '000309.jpg', '000599.jpg', '000351.jpg', '000092.jpg', '000970.jpg', '000433.jpg', '000895.jpg', '000746.jpg', '000680.jpg', '000761.jpg', '000997.jpg', '000471.jpg', '000594.jpg', '000182.jpg', '001013.jpg', '000818.jpg', '000496.jpg', '000031.jpg', '000298.jpg', '000946.jpg', '000690.jpg', '000119.jpg', '000263.jpg', '000131.jpg', '000285.jpg', '000619.jpg', '000464.jpg', '000369.jpg', '000666.jpg', '000688.jpg', '000066.jpg', '000209.jpg', '000730.jpg', '000432.jpg', '000308.jpg', '000863.jpg', '000080.jpg', '000732.jpg', '000831.jpg', '000574.jpg', '001023.jpg', '000892.jpg', '000644.jpg', '000534.jpg', '000829.jpg', '000301.jpg', '000408.jpg', '000704.jpg', '000530.jpg', '000244.jpg', '000386.jpg', '000453.jpg', '000293.jpg', '000401.jpg', '000710.jpg', '000901.jpg', '000906.jpg', '000647.jpg', '000494.jpg', '000311.jpg', '000468.jpg', '000867.jpg', '000230.jpg', '000861.jpg', '000790.jpg', '000942.jpg', '000196.jpg', '000348.jpg', '001016.jpg', '000596.jpg', '000611.jpg', '000968.jpg', '000677.jpg', '000538.jpg', '000810.jpg', '000573.jpg', '000633.jpg', '000133.jpg', '000143.jpg', '000506.jpg', '000079.jpg', '000132.jpg', '000610.jpg', '000457.jpg', '000932.jpg', '000844.jpg', '000417.jpg', '000495.jpg', '000365.jpg', '000411.jpg', '000428.jpg', '000661.jpg', '001020.jpg', '000765.jpg', '000809.jpg', '000033.jpg', '000011.jpg', '000804.jpg', '000698.jpg', '000934.jpg', '000353.jpg', '000341.jpg', '000266.jpg', '000653.jpg', '000899.jpg', '000535.jpg', '000228.jpg', '000697.jpg', '000984.jpg', '000526.jpg', '000888.jpg', '000973.jpg', '000955.jpg', '000948.jpg', '000203.jpg', '000201.jpg', '000264.jpg', '000749.jpg', '000117.jpg', '000004.jpg', '000709.jpg', '000905.jpg', '000545.jpg', '000138.jpg', '000580.jpg', '000713.jpg', '000692.jpg', '000278.jpg', '000685.jpg', '000331.jpg', '000714.jpg', '000490.jpg', '000214.jpg', '000519.jpg', '000051.jpg', '000187.jpg', '000006.jpg', '000800.jpg', '000384.jpg', '001007.jpg', '000708.jpg', '000368.jpg', '000557.jpg', '000019.jpg', '000409.jpg', '000547.jpg', '000338.jpg', '000054.jpg', '000668.jpg', '000213.jpg', '000082.jpg', '000516.jpg', '000486.jpg', '000621.jpg', '000015.jpg', '000618.jpg', '000165.jpg', '000902.jpg', '000689.jpg', '000281.jpg', '000234.jpg', '000232.jpg', '000795.jpg', '000889.jpg', '001006.jpg', '000387.jpg', '000728.jpg', '000705.jpg', '000845.jpg', '000476.jpg', '000815.jpg', '000740.jpg', '000807.jpg', '000090.jpg', '000634.jpg', '000777.jpg', '000657.jpg', '000503.jpg', '000465.jpg', '000585.jpg', '000737.jpg', '000967.jpg', '000983.jpg', '000077.jpg', '000632.jpg', '000371.jpg', '000410.jpg', '000827.jpg', '000128.jpg', '000701.jpg', '000664.jpg', '000395.jpg', '000650.jpg', '000035.jpg', '000568.jpg', '000026.jpg', '000110.jpg', '000678.jpg', '000674.jpg', '000008.jpg', '000548.jpg', '000999.jpg', '000620.jpg', '000882.jpg', '000748.jpg', '000860.jpg', '000375.jpg', '000483.jpg', '000200.jpg', '000756.jpg', '000477.jpg', '000303.jpg', '000640.jpg', '000176.jpg', '000160.jpg', '000700.jpg', '000343.jpg', '000049.jpg', '000367.jpg', '000579.jpg', '000575.jpg', '000856.jpg', '000553.jpg', '000659.jpg', '000501.jpg', '000551.jpg', '000112.jpg', '000256.jpg', '000533.jpg', '000370.jpg', '000366.jpg', '001015.jpg', '000393.jpg', '000572.jpg']\n",
            "./notable_figures/445 project/athletes [] ['g1 (5).jpg', 'k1 (1).jpg', 'm1 (5).jpg', 'h1 (1).jpg', 'u1 (4).jpg', 'f1 (3).jpg', 'd5.jpg', 't3 (2).jpg', 'o1 (3).jpg', 'g1 (1).jpg', 'p1 (4).jpg', 'o1 (5).jpg', 'q1 (3).jpg', 'j1 (5).jpg', 't2 (2).jpg', 'm1 (4).jpg', 'o1 (1).jpg', 'b2.jpg', 'n1 (4).jpg', 'o1 (4).jpg', 'n1 (1).jpg', 'v1 (3).jpg', 'j1 (3).jpg', 'm1 (2).jpg', 'f1 (1).jpg', 'h1 (3).jpg', 'd4.jpg', 'h1 (4).jpg', 'h1 (5).jpg', 'v1 (5).jpg', 'q1 (5).jpg', 't3 (1).jpg', 'e3.jpg', 'l1 (3).jpg', 'k1 (3).jpg', 't2 (5).jpg', 't1 (1).jpg', 'q1 (1).jpg', 'l1 (5).jpg', 'n1 (5).jpg', 'b5.jpg', 'e4.jpg', 'd2.jpg', 'p1 (5).jpg', 'e2.jpg', 't1 (5).jpg', 'm1 (1).jpg', 'g1 (4).jpg', 't3 (4).jpg', 'o1 (2).jpg', 't2 (3).jpg', 'g1 (2).jpg', 'k1 (4).jpg', 't1 (3).jpg', 'b3.jpg', 'a4.jpg', 'p1 (2).jpg', 'a5.jpg', 't3 (5).jpg', 'c3.jpg', 'g1 (3).jpg', 'h1 (2).jpg', 'c1.jpg', 'j1 (2).jpg', 'k1 (2).jpg', 'l1 (2).jpg', 'v1 (1).jpg', 'd3.jpg', 'c2.jpg', 'a3.jpg', 'a1.jpg', 'b4.jpg', 'a2.jpg', 'l1 (1).jpg', 'j1 (1).jpg', 'n1 (2).jpg', 'p1 (3).jpg', 'u1 (5).jpg', 'k1 (5).jpg', 'q1 (4).jpg', 'd1.jpg', 'v1 (2).jpg', 'c5.jpg', 't3 (3).jpg', 't2 (4).jpg', 'e1.jpg', 'c4.jpg', 'q1 (2).jpg', 'f1 (2).jpg', 't1 (4).jpg', 'l1 (4).jpg', 'n1 (3).jpg', 'p1 (1).jpg', 't2 (1).jpg', 'v1 (4).jpg', 'f1 (4).jpg', 'u1 (3).jpg', 'j1 (4).jpg', 'b1.jpg', 'f1 (5).jpg', 't1 (2).jpg', 'm1 (3).jpg', 'e5.jpg', 'u1 (2).jpg', 'u1 (1).jpg']\n",
            "./sample_data [] ['README.md', 'anscombe.json', 'california_housing_test.csv', 'mnist_train_small.csv', 'california_housing_train.csv', 'mnist_test.csv']\n"
          ]
        }
      ]
    },
    {
      "cell_type": "code",
      "source": [
        "import tensorflow as tf\n",
        "from tensorflow.keras import layers\n",
        "\n",
        "# Define the generator\n",
        "def build_generator():\n",
        "    model = tf.keras.Sequential([\n",
        "        layers.Dense(256, activation=\"relu\", input_shape=(100,)),  # Input: Random noise\n",
        "        layers.BatchNormalization(),\n",
        "        layers.Dense(128 * 128 * 3, activation=\"sigmoid\"),\n",
        "        layers.Reshape((128, 128, 3))  # Output: Image of shape 128x128x3\n",
        "    ])\n",
        "    return model\n",
        "\n",
        "# Define the discriminator\n",
        "def build_discriminator():\n",
        "    model = tf.keras.Sequential([\n",
        "        layers.Flatten(input_shape=(128, 128, 3)),\n",
        "        layers.Dense(256, activation=\"relu\"),\n",
        "        layers.Dense(1, activation=\"sigmoid\")  # Output: Probability of being real\n",
        "    ])\n",
        "    return model\n"
      ],
      "metadata": {
        "id": "xW_K-nCJ-G2W"
      },
      "execution_count": 12,
      "outputs": []
    },
    {
      "cell_type": "code",
      "source": [
        "# Instantiate models\n",
        "generator = build_generator()\n",
        "discriminator = build_discriminator()\n",
        "\n",
        "# Compile discriminator\n",
        "discriminator.compile(optimizer=\"adam\", loss=\"binary_crossentropy\", metrics=[\"accuracy\"])\n",
        "\n",
        "# Build the GAN\n",
        "gan_input = layers.Input(shape=(100,))\n",
        "generated_image = generator(gan_input)\n",
        "discriminator.trainable = False  # Freeze discriminator during generator training\n",
        "gan_output = discriminator(generated_image)\n",
        "\n",
        "gan = tf.keras.Model(gan_input, gan_output)\n",
        "gan.compile(optimizer=\"adam\", loss=\"binary_crossentropy\")\n"
      ],
      "metadata": {
        "id": "NrAvd7o_-IP7"
      },
      "execution_count": 13,
      "outputs": []
    },
    {
      "cell_type": "code",
      "source": [
        "epochs = 1000"
      ],
      "metadata": {
        "id": "IQQaQAVQBBPn"
      },
      "execution_count": 15,
      "outputs": []
    },
    {
      "cell_type": "code",
      "source": [
        "import numpy as np  # Import numpy\n",
        "import tensorflow as tf\n",
        "from tensorflow.keras.models import Sequential\n",
        "from tensorflow.keras.layers import Dense, Flatten, Reshape\n",
        "from tensorflow.keras.optimizers import Adam\n",
        "# Other imports...\n",
        "\n",
        "# Define the number of epochs\n",
        "epochs = 1000  # Example value\n",
        "\n",
        "for epoch in range(epochs):\n",
        "    # Get a random batch of real images\n",
        "    real_images, _ = next(train_data)  # Get real images\n",
        "    batch_size_actual = real_images.shape[0]  # Dynamically determine actual batch size\n",
        "\n",
        "    # Adjust real and fake labels dynamically\n",
        "    real_labels = np.ones((batch_size_actual, 1))  # Match to real batch size\n",
        "    fake_labels = np.zeros((batch_size_actual, 1))  # Match to real batch size\n",
        "\n",
        "    # Training loop continues...\n"
      ],
      "metadata": {
        "id": "ePNRjPQzBNq2"
      },
      "execution_count": 17,
      "outputs": []
    },
    {
      "cell_type": "code",
      "source": [
        "import matplotlib.pyplot as plt\n",
        "\n",
        "# Function to save generated images\n",
        "def save_generated_images(epoch, generator, examples=10, dim=(1, 10), figsize=(20, 2)):\n",
        "    noise = generate_random_noise(examples)\n",
        "    generated_images = generator.predict(noise)\n",
        "    generated_images = 0.5 * generated_images + 0.5  # Rescale to [0,1]\n",
        "\n",
        "    plt.figure(figsize=figsize)\n",
        "    for i in range(examples):\n",
        "        plt.subplot(dim[0], dim[1], i + 1)\n",
        "        plt.imshow(generated_images[i].squeeze(), cmap='gray')\n",
        "        plt.axis('off')\n",
        "    plt.tight_layout()\n",
        "    plt.savefig(f\"generated_images_epoch_{epoch}.png\")\n",
        "    plt.close()\n",
        "\n",
        "# Save images every 100 epochs\n",
        "if epoch % 100 == 0:\n",
        "    save_generated_images(epoch, generator)\n"
      ],
      "metadata": {
        "id": "mHdGhTGnBeK5"
      },
      "execution_count": 18,
      "outputs": []
    },
    {
      "cell_type": "code",
      "source": [
        "generator.save(\"generator_model.h5\")\n",
        "print(\"Generator model saved.\")\n"
      ],
      "metadata": {
        "colab": {
          "base_uri": "https://localhost:8080/"
        },
        "id": "Oo-XV4kfBfsF",
        "outputId": "4d232287-fa78-4bed-94d0-cc9c4ba112bf"
      },
      "execution_count": 19,
      "outputs": [
        {
          "output_type": "stream",
          "name": "stderr",
          "text": [
            "WARNING:absl:You are saving your model as an HDF5 file via `model.save()` or `keras.saving.save_model(model)`. This file format is considered legacy. We recommend using instead the native Keras format, e.g. `model.save('my_model.keras')` or `keras.saving.save_model(model, 'my_model.keras')`. \n"
          ]
        },
        {
          "output_type": "stream",
          "name": "stdout",
          "text": [
            "Generator model saved.\n"
          ]
        }
      ]
    },
    {
      "cell_type": "code",
      "source": [
        "def save_generated_images(epoch, generator, examples=10, dim=(1, 10), figsize=(20, 2)):\n",
        "    noise = generate_random_noise(examples)\n",
        "    generated_images = generator.predict(noise)\n",
        "    generated_images = 0.5 * generated_images + 0.5  # Rescale to [0,1]\n",
        "\n",
        "    file_path = f\"/content/generated_images_epoch_{epoch}.png\"  # Full path\n",
        "    plt.figure(figsize=figsize)\n",
        "    for i in range(examples):\n",
        "        plt.subplot(dim[0], dim[1], i + 1)\n",
        "        plt.imshow(generated_images[i].squeeze(), cmap='gray')\n",
        "        plt.axis('off')\n",
        "    plt.tight_layout()\n",
        "    plt.savefig(file_path)  # Save with full path\n",
        "    plt.close()\n",
        "\n",
        "    print(f\"Image saved at {file_path}\")\n"
      ],
      "metadata": {
        "id": "G6ZtTgmoCW01"
      },
      "execution_count": 21,
      "outputs": []
    },
    {
      "cell_type": "code",
      "source": [
        "import os\n",
        "print(os.listdir('/content/'))\n"
      ],
      "metadata": {
        "colab": {
          "base_uri": "https://localhost:8080/"
        },
        "id": "cQs64eRaCgem",
        "outputId": "2fe64c8b-43e0-4a0a-f188-8f0ac6853ef7"
      },
      "execution_count": 23,
      "outputs": [
        {
          "output_type": "stream",
          "name": "stdout",
          "text": [
            "['.config', 'notable_figures', 'notable_figures.zip', 'generator_model.h5', 'notable_figures.zip.zip', 'notable_figures (1).zip', 'sample_data']\n"
          ]
        }
      ]
    },
    {
      "cell_type": "code",
      "source": [
        "plt.savefig('/content/generated_images_epoch_100.png')"
      ],
      "metadata": {
        "colab": {
          "base_uri": "https://localhost:8080/",
          "height": 34
        },
        "id": "WCPADM9fC1ls",
        "outputId": "820cde70-6b13-4fed-f447-c3543077204a"
      },
      "execution_count": 24,
      "outputs": [
        {
          "output_type": "display_data",
          "data": {
            "text/plain": [
              "<Figure size 640x480 with 0 Axes>"
            ]
          },
          "metadata": {}
        }
      ]
    },
    {
      "cell_type": "code",
      "source": [
        "from google.colab import files\n",
        "files.download('/content/generated_images_epoch_100.png')"
      ],
      "metadata": {
        "colab": {
          "base_uri": "https://localhost:8080/",
          "height": 17
        },
        "id": "OEMOlYWEC3I7",
        "outputId": "a7231f46-17c2-4668-8c68-508c9a485904"
      },
      "execution_count": 25,
      "outputs": [
        {
          "output_type": "display_data",
          "data": {
            "text/plain": [
              "<IPython.core.display.Javascript object>"
            ],
            "application/javascript": [
              "\n",
              "    async function download(id, filename, size) {\n",
              "      if (!google.colab.kernel.accessAllowed) {\n",
              "        return;\n",
              "      }\n",
              "      const div = document.createElement('div');\n",
              "      const label = document.createElement('label');\n",
              "      label.textContent = `Downloading \"${filename}\": `;\n",
              "      div.appendChild(label);\n",
              "      const progress = document.createElement('progress');\n",
              "      progress.max = size;\n",
              "      div.appendChild(progress);\n",
              "      document.body.appendChild(div);\n",
              "\n",
              "      const buffers = [];\n",
              "      let downloaded = 0;\n",
              "\n",
              "      const channel = await google.colab.kernel.comms.open(id);\n",
              "      // Send a message to notify the kernel that we're ready.\n",
              "      channel.send({})\n",
              "\n",
              "      for await (const message of channel.messages) {\n",
              "        // Send a message to notify the kernel that we're ready.\n",
              "        channel.send({})\n",
              "        if (message.buffers) {\n",
              "          for (const buffer of message.buffers) {\n",
              "            buffers.push(buffer);\n",
              "            downloaded += buffer.byteLength;\n",
              "            progress.value = downloaded;\n",
              "          }\n",
              "        }\n",
              "      }\n",
              "      const blob = new Blob(buffers, {type: 'application/binary'});\n",
              "      const a = document.createElement('a');\n",
              "      a.href = window.URL.createObjectURL(blob);\n",
              "      a.download = filename;\n",
              "      div.appendChild(a);\n",
              "      a.click();\n",
              "      div.remove();\n",
              "    }\n",
              "  "
            ]
          },
          "metadata": {}
        },
        {
          "output_type": "display_data",
          "data": {
            "text/plain": [
              "<IPython.core.display.Javascript object>"
            ],
            "application/javascript": [
              "download(\"download_52cb8af4-8247-4cc4-8c9c-b601fc9089a0\", \"generated_images_epoch_100.png\", 2396)"
            ]
          },
          "metadata": {}
        }
      ]
    }
  ]
}